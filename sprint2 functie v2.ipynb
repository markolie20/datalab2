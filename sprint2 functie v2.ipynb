{
 "cells": [
  {
   "cell_type": "code",
   "execution_count": 182,
   "id": "6d038674",
   "metadata": {},
   "outputs": [
    {
     "name": "stdout",
     "output_type": "stream",
     "text": [
      "Once deleted, variables cannot be recovered. Proceed (y/[n])? y\n"
     ]
    }
   ],
   "source": [
    "%reset\n",
    "import sqlite3\n",
    "import pandas as pd\n",
    "import numpy as np"
   ]
  },
  {
   "cell_type": "code",
   "execution_count": 221,
   "id": "0b506c21",
   "metadata": {},
   "outputs": [],
   "source": [
    "class FootballData:\n",
    "    \"\"\"\n",
    "    Class to get and describe the data from kaggle soccer dataset\n",
    "    \"\"\"\n",
    "    def __init__(self, data_path):\n",
    "        \"\"\"\n",
    "        Initialize data from kaggle to use in other methods\n",
    "        \"\"\"\n",
    "        self.cnx = sqlite3.connect(data_path)\n",
    "\n",
    "        self.country_df = pd.read_sql_query(\"SELECT * FROM Country\", self.cnx)\n",
    "        self.league_df = pd.read_sql_query(\"SELECT * FROM League\", self.cnx)\n",
    "        self.match_df = pd.read_sql_query(\"SELECT * FROM Match\", self.cnx)\n",
    "        self.player_df = pd.read_sql_query(\"SELECT * FROM Player\", self.cnx)\n",
    "        self.player_att_df = pd.read_sql_query(\"SELECT * FROM Player_Attributes\", self.cnx)\n",
    "        self.team_df = pd.read_sql_query(\"SELECT * FROM Team\", self.cnx)\n",
    "        self.team_att_df = pd.read_sql_query(\"SELECT * FROM Team_Attributes\", self.cnx)\n",
    "        \n",
    "    def get_league_season_data(self, league, season):\n",
    "        \"\"\"\n",
    "        Return all match data from a competition in a season\n",
    "        \"\"\"\n",
    "        league_api_id = self.league_df.loc[(self.league_df['name'] == league)]['id'].values[0]\n",
    "        \n",
    "        league_matches = self.match_df.loc[(self.match_df['league_id'] == league_api_id) &  \n",
    "                                           (self.match_df['season'] == season)].copy()\n",
    "        \n",
    "        league_matches[\"points_for_home\"] = np.where(league_matches['home_team_goal'] > league_matches['away_team_goal'], 3,\n",
    "                                             np.where(league_matches['home_team_goal'] == league_matches['away_team_goal'], 1, 0))\n",
    "        league_matches[\"points_for_away\"] = np.where(league_matches['home_team_goal'] < league_matches['away_team_goal'], 3,\n",
    "                                             np.where(league_matches['home_team_goal'] == league_matches['away_team_goal'], 1, 0))\n",
    "        \n",
    "        \n",
    "        home_games = league_matches.groupby('home_team_api_id').sum().sort_values(\"points_for_home\")\n",
    "        away_games = league_matches.groupby('away_team_api_id').sum().sort_values(\"points_for_away\")\n",
    "        \n",
    "        \n",
    "    \n",
    "    def get_team_season_data(self, team, season):\n",
    "        \"\"\"\n",
    "        Return all match data from a team in a particular season\n",
    "        \"\"\"\n",
    "        # Get the data from the dataframe\n",
    "        team_api_id = self.team_df.loc[(self.team_df['team_long_name'] == team)]['team_api_id'].values[0]\n",
    "        team_matches = self.match_df.loc[((self.match_df['home_team_api_id'] == team_api_id) | \n",
    "                                          (self.match_df['away_team_api_id'] == team_api_id))\n",
    "                                         & (self.match_df['season'] == season)].copy()\n",
    "        \n",
    "        # Add Home and away column to able to differentiate between games played home and games played away\n",
    "        team_matches[\"home/away\"] = np.where(team_matches['home_team_api_id'] == team_api_id, \"home\", \"away\")\n",
    "\n",
    "        team_matches[\"punten\"] = np.where(((team_matches['home_team_goal'] > team_matches['away_team_goal']) & (team_matches[\"home/away\"] == \"home\")) |\n",
    "                                          ((team_matches['home_team_goal'] < team_matches['away_team_goal']) & (team_matches[\"home/away\"] == \"away\")), 3, \n",
    "                                          np.where(team_matches['home_team_goal'] == team_matches['away_team_goal'], 1, 0))\n",
    "        \n",
    "        return team_matches\n",
    "    \n",
    "    def describe_team_season_data(self, data):\n",
    "        \"\"\"\n",
    "        Print a description of the team/season data\n",
    "        \"\"\"  \n",
    "        home_win_perc = round(len(data[\"punten\"].loc[(data[\"punten\"] == 3) & (data[\"home/away\"] == \"home\")]) / len(data.loc[data[\"home/away\"] == \"home\"]) * 100, 2)\n",
    "        home_draw_perc = round(len(data[\"punten\"].loc[(data[\"punten\"] == 1) & (data[\"home/away\"] == \"home\")]) / len(data.loc[data[\"home/away\"] == \"home\"]) * 100, 2)\n",
    "        home_loss_perc = round(len(data[\"punten\"].loc[(data[\"punten\"] == 0) & (data[\"home/away\"] == \"home\")]) / len(data.loc[data[\"home/away\"] == \"home\"]) * 100, 2)\n",
    "        \n",
    "        away_win_perc = round(len(data[\"punten\"].loc[(data[\"punten\"] == 3) & (data[\"home/away\"] == \"away\")]) / len(data[\"punten\"].loc[data[\"home/away\"] == \"away\"]) * 100, 2)\n",
    "        away_draw_perc = round(len(data[\"punten\"].loc[(data[\"punten\"] == 1) & (data[\"home/away\"] == \"away\")]) / len(data[\"punten\"].loc[data[\"home/away\"] == \"away\"]) * 100, 2)\n",
    "        away_loss_perc = round(len(data[\"punten\"].loc[(data[\"punten\"] == 0) & (data[\"home/away\"] == \"away\")]) / len(data[\"punten\"].loc[data[\"home/away\"] == \"away\"]) * 100, 2)\n",
    "        \n",
    "        \n",
    "        print(f\"Aantal wedstrijden: {str(len(data))} \\n\\\n",
    "                Aantal punten: {str(data['punten'].sum())} \\n\\\n",
    "                Gemiddelde punten per wedstrijd: {str(round(data['punten'].mean(), 2))} \\n\\n\\\n",
    "                Win thuis percentage: {str(home_win_perc)}% \\n\\\n",
    "                Gelijk thuis percentage: {str(home_draw_perc)}% \\n\\\n",
    "                Verlies thuis percentage: {str(home_loss_perc)}% \\n\\n\\\n",
    "                Win uit percentage: {str(away_win_perc)}% \\n\\\n",
    "                Gelijk uit percentage: {str(away_draw_perc)}% \\n\\\n",
    "                Verlies uit percentage: {str(away_loss_perc)}%\")\n",
    "        \n",
    "        \n",
    "        \n",
    "        \n",
    "        "
   ]
  },
  {
   "cell_type": "code",
   "execution_count": 222,
   "id": "6097afbb",
   "metadata": {},
   "outputs": [],
   "source": [
    "fd = FootballData(\"database.sqlite\")"
   ]
  },
  {
   "cell_type": "code",
   "execution_count": 207,
   "id": "55cdf479",
   "metadata": {},
   "outputs": [
    {
     "name": "stdout",
     "output_type": "stream",
     "text": [
      "Aantal wedstrijden: 34 \n",
      "                Aantal punten: 45 \n",
      "                Gemiddelde punten per wedstrijd: 1.32% \n",
      "\n",
      "                Win thuis percentage: 47.06% \n",
      "                Gelijk thuis percentage: 29.41% \n",
      "                Verlies thuis percentage: 23.53% \n",
      "\n",
      "                Win uit percentage: 23.53% \n",
      "                Gelijk uit percentage: 23.53% \n",
      "                Verlies uit percentage: 52.94%\n"
     ]
    }
   ],
   "source": [
    "fd.describe_team_season_data(fd.get_team_season_data(\"Feyenoord\", \"2008/2009\"))"
   ]
  },
  {
   "cell_type": "code",
   "execution_count": 223,
   "id": "093898d7",
   "metadata": {
    "scrolled": false
   },
   "outputs": [
    {
     "name": "stderr",
     "output_type": "stream",
     "text": [
      "C:\\Users\\Mark\\AppData\\Local\\Temp\\ipykernel_13020\\3302338939.py:35: FutureWarning: In a future version of pandas all arguments of Series.sort_values will be keyword-only.\n",
      "  home_games = league_matches.groupby('home_team_api_id').size().sort_values(\"points_for_home\")\n"
     ]
    },
    {
     "ename": "ValueError",
     "evalue": "No axis named points_for_home for object type Series",
     "output_type": "error",
     "traceback": [
      "\u001b[1;31m---------------------------------------------------------------------------\u001b[0m",
      "\u001b[1;31mKeyError\u001b[0m                                  Traceback (most recent call last)",
      "File \u001b[1;32m~\\anaconda3\\lib\\site-packages\\pandas\\core\\generic.py:550\u001b[0m, in \u001b[0;36mNDFrame._get_axis_number\u001b[1;34m(cls, axis)\u001b[0m\n\u001b[0;32m    549\u001b[0m \u001b[38;5;28;01mtry\u001b[39;00m:\n\u001b[1;32m--> 550\u001b[0m     \u001b[38;5;28;01mreturn\u001b[39;00m \u001b[38;5;28;43mcls\u001b[39;49m\u001b[38;5;241;43m.\u001b[39;49m\u001b[43m_AXIS_TO_AXIS_NUMBER\u001b[49m\u001b[43m[\u001b[49m\u001b[43maxis\u001b[49m\u001b[43m]\u001b[49m\n\u001b[0;32m    551\u001b[0m \u001b[38;5;28;01mexcept\u001b[39;00m \u001b[38;5;167;01mKeyError\u001b[39;00m:\n",
      "\u001b[1;31mKeyError\u001b[0m: 'points_for_home'",
      "\nDuring handling of the above exception, another exception occurred:\n",
      "\u001b[1;31mValueError\u001b[0m                                Traceback (most recent call last)",
      "Input \u001b[1;32mIn [223]\u001b[0m, in \u001b[0;36m<cell line: 1>\u001b[1;34m()\u001b[0m\n\u001b[1;32m----> 1\u001b[0m \u001b[43mfd\u001b[49m\u001b[38;5;241;43m.\u001b[39;49m\u001b[43mget_league_season_data\u001b[49m\u001b[43m(\u001b[49m\u001b[38;5;124;43m'\u001b[39;49m\u001b[38;5;124;43mNetherlands Eredivisie\u001b[39;49m\u001b[38;5;124;43m'\u001b[39;49m\u001b[43m,\u001b[49m\u001b[38;5;124;43m'\u001b[39;49m\u001b[38;5;124;43m2008/2009\u001b[39;49m\u001b[38;5;124;43m'\u001b[39;49m\u001b[43m)\u001b[49m\n",
      "Input \u001b[1;32mIn [221]\u001b[0m, in \u001b[0;36mFootballData.get_league_season_data\u001b[1;34m(self, league, season)\u001b[0m\n\u001b[0;32m     28\u001b[0m league_matches[\u001b[38;5;124m\"\u001b[39m\u001b[38;5;124mpoints_for_home\u001b[39m\u001b[38;5;124m\"\u001b[39m] \u001b[38;5;241m=\u001b[39m np\u001b[38;5;241m.\u001b[39mwhere(league_matches[\u001b[38;5;124m'\u001b[39m\u001b[38;5;124mhome_team_goal\u001b[39m\u001b[38;5;124m'\u001b[39m] \u001b[38;5;241m>\u001b[39m league_matches[\u001b[38;5;124m'\u001b[39m\u001b[38;5;124maway_team_goal\u001b[39m\u001b[38;5;124m'\u001b[39m], \u001b[38;5;241m3\u001b[39m,\n\u001b[0;32m     29\u001b[0m                                      np\u001b[38;5;241m.\u001b[39mwhere(league_matches[\u001b[38;5;124m'\u001b[39m\u001b[38;5;124mhome_team_goal\u001b[39m\u001b[38;5;124m'\u001b[39m] \u001b[38;5;241m==\u001b[39m league_matches[\u001b[38;5;124m'\u001b[39m\u001b[38;5;124maway_team_goal\u001b[39m\u001b[38;5;124m'\u001b[39m], \u001b[38;5;241m1\u001b[39m, \u001b[38;5;241m0\u001b[39m))\n\u001b[0;32m     30\u001b[0m league_matches[\u001b[38;5;124m\"\u001b[39m\u001b[38;5;124mpoints_for_away\u001b[39m\u001b[38;5;124m\"\u001b[39m] \u001b[38;5;241m=\u001b[39m np\u001b[38;5;241m.\u001b[39mwhere(league_matches[\u001b[38;5;124m'\u001b[39m\u001b[38;5;124mhome_team_goal\u001b[39m\u001b[38;5;124m'\u001b[39m] \u001b[38;5;241m<\u001b[39m league_matches[\u001b[38;5;124m'\u001b[39m\u001b[38;5;124maway_team_goal\u001b[39m\u001b[38;5;124m'\u001b[39m], \u001b[38;5;241m3\u001b[39m,\n\u001b[0;32m     31\u001b[0m                                      np\u001b[38;5;241m.\u001b[39mwhere(league_matches[\u001b[38;5;124m'\u001b[39m\u001b[38;5;124mhome_team_goal\u001b[39m\u001b[38;5;124m'\u001b[39m] \u001b[38;5;241m==\u001b[39m league_matches[\u001b[38;5;124m'\u001b[39m\u001b[38;5;124maway_team_goal\u001b[39m\u001b[38;5;124m'\u001b[39m], \u001b[38;5;241m1\u001b[39m, \u001b[38;5;241m0\u001b[39m))\n\u001b[1;32m---> 35\u001b[0m home_games \u001b[38;5;241m=\u001b[39m \u001b[43mleague_matches\u001b[49m\u001b[38;5;241;43m.\u001b[39;49m\u001b[43mgroupby\u001b[49m\u001b[43m(\u001b[49m\u001b[38;5;124;43m'\u001b[39;49m\u001b[38;5;124;43mhome_team_api_id\u001b[39;49m\u001b[38;5;124;43m'\u001b[39;49m\u001b[43m)\u001b[49m\u001b[38;5;241;43m.\u001b[39;49m\u001b[43msize\u001b[49m\u001b[43m(\u001b[49m\u001b[43m)\u001b[49m\u001b[38;5;241;43m.\u001b[39;49m\u001b[43msort_values\u001b[49m\u001b[43m(\u001b[49m\u001b[38;5;124;43m\"\u001b[39;49m\u001b[38;5;124;43mpoints_for_home\u001b[39;49m\u001b[38;5;124;43m\"\u001b[39;49m\u001b[43m)\u001b[49m\n\u001b[0;32m     36\u001b[0m away_games \u001b[38;5;241m=\u001b[39m league_matches\u001b[38;5;241m.\u001b[39mgroupby(\u001b[38;5;124m'\u001b[39m\u001b[38;5;124maway_team_api_id\u001b[39m\u001b[38;5;124m'\u001b[39m)\u001b[38;5;241m.\u001b[39msum()\u001b[38;5;241m.\u001b[39msort_values(\u001b[38;5;124m\"\u001b[39m\u001b[38;5;124mpoints_for_away\u001b[39m\u001b[38;5;124m\"\u001b[39m)\n",
      "File \u001b[1;32m~\\anaconda3\\lib\\site-packages\\pandas\\util\\_decorators.py:311\u001b[0m, in \u001b[0;36mdeprecate_nonkeyword_arguments.<locals>.decorate.<locals>.wrapper\u001b[1;34m(*args, **kwargs)\u001b[0m\n\u001b[0;32m    305\u001b[0m \u001b[38;5;28;01mif\u001b[39;00m \u001b[38;5;28mlen\u001b[39m(args) \u001b[38;5;241m>\u001b[39m num_allow_args:\n\u001b[0;32m    306\u001b[0m     warnings\u001b[38;5;241m.\u001b[39mwarn(\n\u001b[0;32m    307\u001b[0m         msg\u001b[38;5;241m.\u001b[39mformat(arguments\u001b[38;5;241m=\u001b[39marguments),\n\u001b[0;32m    308\u001b[0m         \u001b[38;5;167;01mFutureWarning\u001b[39;00m,\n\u001b[0;32m    309\u001b[0m         stacklevel\u001b[38;5;241m=\u001b[39mstacklevel,\n\u001b[0;32m    310\u001b[0m     )\n\u001b[1;32m--> 311\u001b[0m \u001b[38;5;28;01mreturn\u001b[39;00m func(\u001b[38;5;241m*\u001b[39margs, \u001b[38;5;241m*\u001b[39m\u001b[38;5;241m*\u001b[39mkwargs)\n",
      "File \u001b[1;32m~\\anaconda3\\lib\\site-packages\\pandas\\core\\series.py:3502\u001b[0m, in \u001b[0;36mSeries.sort_values\u001b[1;34m(self, axis, ascending, inplace, kind, na_position, ignore_index, key)\u001b[0m\n\u001b[0;32m   3500\u001b[0m inplace \u001b[38;5;241m=\u001b[39m validate_bool_kwarg(inplace, \u001b[38;5;124m\"\u001b[39m\u001b[38;5;124minplace\u001b[39m\u001b[38;5;124m\"\u001b[39m)\n\u001b[0;32m   3501\u001b[0m \u001b[38;5;66;03m# Validate the axis parameter\u001b[39;00m\n\u001b[1;32m-> 3502\u001b[0m \u001b[38;5;28;43mself\u001b[39;49m\u001b[38;5;241;43m.\u001b[39;49m\u001b[43m_get_axis_number\u001b[49m\u001b[43m(\u001b[49m\u001b[43maxis\u001b[49m\u001b[43m)\u001b[49m\n\u001b[0;32m   3504\u001b[0m \u001b[38;5;66;03m# GH 5856/5853\u001b[39;00m\n\u001b[0;32m   3505\u001b[0m \u001b[38;5;28;01mif\u001b[39;00m inplace \u001b[38;5;129;01mand\u001b[39;00m \u001b[38;5;28mself\u001b[39m\u001b[38;5;241m.\u001b[39m_is_cached:\n",
      "File \u001b[1;32m~\\anaconda3\\lib\\site-packages\\pandas\\core\\generic.py:552\u001b[0m, in \u001b[0;36mNDFrame._get_axis_number\u001b[1;34m(cls, axis)\u001b[0m\n\u001b[0;32m    550\u001b[0m     \u001b[38;5;28;01mreturn\u001b[39;00m \u001b[38;5;28mcls\u001b[39m\u001b[38;5;241m.\u001b[39m_AXIS_TO_AXIS_NUMBER[axis]\n\u001b[0;32m    551\u001b[0m \u001b[38;5;28;01mexcept\u001b[39;00m \u001b[38;5;167;01mKeyError\u001b[39;00m:\n\u001b[1;32m--> 552\u001b[0m     \u001b[38;5;28;01mraise\u001b[39;00m \u001b[38;5;167;01mValueError\u001b[39;00m(\u001b[38;5;124mf\u001b[39m\u001b[38;5;124m\"\u001b[39m\u001b[38;5;124mNo axis named \u001b[39m\u001b[38;5;132;01m{\u001b[39;00maxis\u001b[38;5;132;01m}\u001b[39;00m\u001b[38;5;124m for object type \u001b[39m\u001b[38;5;132;01m{\u001b[39;00m\u001b[38;5;28mcls\u001b[39m\u001b[38;5;241m.\u001b[39m\u001b[38;5;18m__name__\u001b[39m\u001b[38;5;132;01m}\u001b[39;00m\u001b[38;5;124m\"\u001b[39m)\n",
      "\u001b[1;31mValueError\u001b[0m: No axis named points_for_home for object type Series"
     ]
    }
   ],
   "source": [
    "fd.get_league_season_data('Netherlands Eredivisie','2008/2009')"
   ]
  },
  {
   "cell_type": "code",
   "execution_count": 152,
   "id": "fae8869c",
   "metadata": {},
   "outputs": [
    {
     "ename": "NameError",
     "evalue": "name 'league_df' is not defined",
     "output_type": "error",
     "traceback": [
      "\u001b[1;31m---------------------------------------------------------------------------\u001b[0m",
      "\u001b[1;31mNameError\u001b[0m                                 Traceback (most recent call last)",
      "Input \u001b[1;32mIn [152]\u001b[0m, in \u001b[0;36m<cell line: 82>\u001b[1;34m()\u001b[0m\n\u001b[0;32m     80\u001b[0m     ranglijst\u001b[38;5;241m.\u001b[39mindex\u001b[38;5;241m=\u001b[39m ranglijst\u001b[38;5;241m.\u001b[39mindex \u001b[38;5;241m+\u001b[39m\u001b[38;5;241m1\u001b[39m\n\u001b[0;32m     81\u001b[0m     \u001b[38;5;28;01mreturn\u001b[39;00m ranglijst\n\u001b[1;32m---> 82\u001b[0m \u001b[43mranglijst\u001b[49m\u001b[43m(\u001b[49m\u001b[38;5;124;43m'\u001b[39;49m\u001b[38;5;124;43mNetherlands Eredivisie\u001b[39;49m\u001b[38;5;124;43m'\u001b[39;49m\u001b[43m,\u001b[49m\u001b[38;5;124;43m'\u001b[39;49m\u001b[38;5;124;43m2008/2009\u001b[39;49m\u001b[38;5;124;43m'\u001b[39;49m\u001b[43m)\u001b[49m\n",
      "Input \u001b[1;32mIn [152]\u001b[0m, in \u001b[0;36mranglijst\u001b[1;34m(league, seizoen)\u001b[0m\n\u001b[0;32m      1\u001b[0m \u001b[38;5;28;01mdef\u001b[39;00m \u001b[38;5;21mranglijst\u001b[39m(league, seizoen):\n\u001b[1;32m----> 2\u001b[0m     leagueapid \u001b[38;5;241m=\u001b[39m \u001b[43mleague_df\u001b[49m\u001b[38;5;241m.\u001b[39mloc[(league_df[\u001b[38;5;124m'\u001b[39m\u001b[38;5;124mname\u001b[39m\u001b[38;5;124m'\u001b[39m] \u001b[38;5;241m==\u001b[39m league)][\u001b[38;5;124m'\u001b[39m\u001b[38;5;124mid\u001b[39m\u001b[38;5;124m'\u001b[39m]\u001b[38;5;241m.\u001b[39mvalues[\u001b[38;5;241m0\u001b[39m]\n\u001b[0;32m      3\u001b[0m     ranglijst \u001b[38;5;241m=\u001b[39m pd\u001b[38;5;241m.\u001b[39mDataFrame()\n\u001b[0;32m      4\u001b[0m     ranglijst[\u001b[38;5;124m'\u001b[39m\u001b[38;5;124mTeam_id\u001b[39m\u001b[38;5;124m'\u001b[39m]\u001b[38;5;241m=\u001b[39mmatch_df\u001b[38;5;241m.\u001b[39mloc[(match_df[\u001b[38;5;124m'\u001b[39m\u001b[38;5;124mleague_id\u001b[39m\u001b[38;5;124m'\u001b[39m] \u001b[38;5;241m==\u001b[39m leagueapid) \u001b[38;5;241m&\u001b[39m  (match_df[\u001b[38;5;124m'\u001b[39m\u001b[38;5;124mseason\u001b[39m\u001b[38;5;124m'\u001b[39m] \u001b[38;5;241m==\u001b[39m seizoen), \u001b[38;5;124m'\u001b[39m\u001b[38;5;124mhome_team_api_id\u001b[39m\u001b[38;5;124m'\u001b[39m]\u001b[38;5;241m.\u001b[39munique()\n",
      "\u001b[1;31mNameError\u001b[0m: name 'league_df' is not defined"
     ]
    }
   ],
   "source": [
    "def ranglijst(league, seizoen):\n",
    "    leagueapid = league_df.loc[(league_df['name'] == league)]['id'].values[0]\n",
    "    ranglijst = pd.DataFrame()\n",
    "    ranglijst['Team_id']=match_df.loc[(match_df['league_id'] == leagueapid) &  (match_df['season'] == seizoen), 'home_team_api_id'].unique()\n",
    "    ranglijst['Team_Name'] = pd.merge(ranglijst, team_df, left_on =ranglijst['Team_id'], right_on = team_df['team_api_id'])['team_long_name']\n",
    "    match_df['home_outcome'] = np.where(match_df['home_team_goal'] > match_df['away_team_goal'], 'W', np.where(match_df['home_team_goal'] == match_df['away_team_goal'], 'D', 'L'))\n",
    "    match_df['home_punten']= np.where(match_df['home_outcome'] == 'W', 3, np.where(match_df['home_outcome'] == 'D', 1, 0))\n",
    "    match_df['away_outcome'] = np.where(match_df['home_team_goal'] < match_df['away_team_goal'], 'W', np.where(match_df['home_team_goal'] == match_df['away_team_goal'], 'D', 'L'))\n",
    "    match_df['away_punten']= np.where(match_df['away_outcome'] == 'W', 3, np.where(match_df['away_outcome'] == 'D', 1, 0))\n",
    "    match_df['home_wins']=np.where(match_df['home_outcome'] == 'W', 1,0)\n",
    "    match_df['home_draws']=np.where(match_df['home_outcome'] == 'D', 1,0)\n",
    "    match_df['home_loses']=np.where(match_df['home_outcome'] == 'L', 1,0)    \n",
    "    match_df['away_wins']=np.where(match_df['away_outcome'] == 'W', 1,0)\n",
    "    match_df['away_draws']=np.where(match_df['away_outcome'] == 'D', 1,0)\n",
    "    match_df['away_loses']=np.where(match_df['away_outcome'] == 'L', 1,0)\n",
    "    \n",
    "    Home = match_df.groupby(['league_id','season','home_team_api_id']).aggregate({'home_punten' : 'sum', 'home_team_goal' : 'sum', 'away_team_goal' : 'sum','home_wins': 'sum', 'home_draws': 'sum','home_loses' : 'sum','away_wins': 'sum', 'away_draws': 'sum','away_loses' : 'sum'})\n",
    "    home_wins=Home['home_wins']\n",
    "    home_wins_totaal=pd.DataFrame(home_wins[leagueapid,seizoen])\n",
    "    home_draws=Home['home_draws']\n",
    "    home_draws_totaal=pd.DataFrame(home_draws[leagueapid,seizoen])\n",
    "    home_loses=Home['home_loses']\n",
    "    home_loses_totaal=pd.DataFrame(home_loses[leagueapid,seizoen])\n",
    "    Home_punten=Home['home_punten']\n",
    "    home_punten_totaal=pd.DataFrame(Home_punten[leagueapid,seizoen])\n",
    "    home_goals_voor=Home['home_team_goal']\n",
    "    home_goals_voor_totaal=pd.DataFrame(home_goals_voor[leagueapid,seizoen])\n",
    "    home_goals_tegen=Home['away_team_goal']\n",
    "    home_goals_tegen_totaal=pd.DataFrame(home_goals_tegen[leagueapid,seizoen])\n",
    "    Away = match_df.groupby(['league_id','season','away_team_api_id']).aggregate({'away_punten' : 'sum', 'home_team_goal' : 'sum', 'away_team_goal' : 'sum','home_wins': 'sum', 'home_draws': 'sum','home_loses' : 'sum','away_wins': 'sum', 'away_draws': 'sum','away_loses' : 'sum'})\n",
    "    away_wins=Away['away_wins']\n",
    "    away_wins_totaal=pd.DataFrame(away_wins[leagueapid,seizoen])\n",
    "    away_draws=Away['away_draws']\n",
    "    away_draws_totaal=pd.DataFrame(away_draws[leagueapid,seizoen])\n",
    "    away_loses=Away['away_loses']\n",
    "    away_loses_totaal=pd.DataFrame(away_loses[leagueapid,seizoen])\n",
    "    away_punten=Away['away_punten']\n",
    "    away_punten_totaal=pd.DataFrame(away_punten[leagueapid,seizoen])\n",
    "    away_goals_tegen=Away['home_team_goal']\n",
    "    away_goals_tegen_totaal=pd.DataFrame(away_goals_tegen[leagueapid,seizoen])\n",
    "    away_goals_voor=Away['away_team_goal']\n",
    "    away_goals_voor_totaal=pd.DataFrame(away_goals_voor[leagueapid,seizoen])\n",
    "    \n",
    "    ranglijst['home_punten'] = pd.merge(ranglijst, home_punten_totaal, left_on =ranglijst['Team_id'], right_index=True)['home_punten']\n",
    "    ranglijst['away_punten'] = pd.merge(ranglijst, away_punten_totaal, left_on =ranglijst['Team_id'], right_index=True)['away_punten']\n",
    "    ranglijst['home_goals_voor'] = pd.merge(ranglijst, home_goals_voor_totaal, left_on =ranglijst['Team_id'], right_index=True)['home_team_goal']\n",
    "    ranglijst['home_goals_tegen'] = pd.merge(ranglijst, home_goals_tegen_totaal, left_on =ranglijst['Team_id'], right_index=True)['away_team_goal']\n",
    "    ranglijst['away_goals_voor'] = pd.merge(ranglijst, away_goals_voor_totaal, left_on =ranglijst['Team_id'], right_index=True)['away_team_goal']\n",
    "    ranglijst['away_goals_tegen'] = pd.merge(ranglijst, away_goals_tegen_totaal, left_on =ranglijst['Team_id'], right_index=True)['home_team_goal']\n",
    "    \n",
    "    ranglijst['home_wins'] = pd.merge(ranglijst, home_wins_totaal, left_on =ranglijst['Team_id'], right_index=True)['home_wins']\n",
    "    ranglijst['away_wins'] = pd.merge(ranglijst, away_wins_totaal, left_on =ranglijst['Team_id'], right_index=True)['away_wins']\n",
    "    ranglijst['home_draws'] = pd.merge(ranglijst, home_draws_totaal, left_on =ranglijst['Team_id'], right_index=True)['home_draws']\n",
    "    ranglijst['away_draws'] = pd.merge(ranglijst, away_draws_totaal, left_on =ranglijst['Team_id'], right_index=True)['away_draws']\n",
    "    ranglijst['home_loses'] = pd.merge(ranglijst, home_loses_totaal, left_on =ranglijst['Team_id'], right_index=True)['home_loses']\n",
    "    ranglijst['away_loses'] = pd.merge(ranglijst, away_loses_totaal, left_on =ranglijst['Team_id'], right_index=True)['away_loses']\n",
    "    \n",
    "    ranglijst['Totaal_Gespeeld'] = ranglijst['home_wins'] + ranglijst['home_draws'] + ranglijst['home_loses'] + ranglijst['away_wins'] + ranglijst['away_draws'] + ranglijst['away_loses']\n",
    "    ranglijst['Totaal_Win'] = ranglijst['home_wins'] + ranglijst['away_wins']\n",
    "    ranglijst['Totaal_Draw'] = ranglijst['home_draws'] + ranglijst['away_draws']\n",
    "    ranglijst['Totaal_Loss'] = ranglijst['home_loses'] + ranglijst['away_loses']\n",
    "    ranglijst['Doelpunten_Voor'] = ranglijst['home_goals_voor'] + ranglijst['away_goals_voor']\n",
    "    ranglijst['Doelpunten_Tegen'] = ranglijst['home_goals_tegen'] + ranglijst['away_goals_tegen']\n",
    "    ranglijst['Doelpunten_Saldo'] = ranglijst['Doelpunten_Voor'] - ranglijst['Doelpunten_Tegen']\n",
    "    ranglijst['Totale_punten'] = ranglijst['home_punten'] + ranglijst['away_punten']\n",
    "    \n",
    "    ranglijst.drop('home_wins', inplace=True, axis=1)\n",
    "    ranglijst.drop('home_draws', inplace=True, axis=1)\n",
    "    ranglijst.drop('home_loses', inplace=True, axis=1)\n",
    "    ranglijst.drop('away_wins', inplace=True, axis=1)\n",
    "    ranglijst.drop('away_draws', inplace=True, axis=1)\n",
    "    ranglijst.drop('away_loses', inplace=True, axis=1)\n",
    "    ranglijst.drop('home_punten', inplace=True, axis=1)\n",
    "    ranglijst.drop('away_punten', inplace=True, axis=1)\n",
    "    ranglijst.drop('home_goals_voor', inplace=True, axis=1)\n",
    "    ranglijst.drop('away_goals_voor', inplace=True, axis=1)\n",
    "    ranglijst.drop('home_goals_tegen', inplace=True, axis=1)\n",
    "    ranglijst.drop('away_goals_tegen', inplace=True, axis=1)\n",
    "    ranglijst = ranglijst.sort_values(by=['Totale_punten','Doelpunten_Saldo'], ascending=False, ignore_index=True)\n",
    "    ranglijst.index= ranglijst.index +1\n",
    "    return ranglijst\n",
    "ranglijst('Netherlands Eredivisie','2008/2009')\n",
    "\n",
    "    \n",
    "    "
   ]
  },
  {
   "cell_type": "code",
   "execution_count": null,
   "id": "2efba356",
   "metadata": {},
   "outputs": [],
   "source": []
  }
 ],
 "metadata": {
  "kernelspec": {
   "display_name": "Python 3 (ipykernel)",
   "language": "python",
   "name": "python3"
  },
  "language_info": {
   "codemirror_mode": {
    "name": "ipython",
    "version": 3
   },
   "file_extension": ".py",
   "mimetype": "text/x-python",
   "name": "python",
   "nbconvert_exporter": "python",
   "pygments_lexer": "ipython3",
   "version": "3.9.12"
  }
 },
 "nbformat": 4,
 "nbformat_minor": 5
}
