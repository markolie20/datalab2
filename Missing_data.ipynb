{
 "cells": [
  {
   "cell_type": "code",
   "execution_count": null,
   "id": "623de33f",
   "metadata": {},
   "outputs": [],
   "source": [
    "\n",
    "match\n",
    "home_player_X1 tot x11 missing 7%\n",
    "away_player_X1 tot x11 missing 7%\n",
    "home_player_Y1 to y11 missing 7%\n",
    "away_player_Y1 tot y11 missing 7%\n",
    "home_player_1 tot 11 missing 5 %\n",
    "away_player_1 tot 11 missing 5%\n",
    "\n",
    "goal missing 45%\n",
    "shoton missing 45%\n",
    "shotoff missing 45%\n",
    "foullcommit missing 45%\n",
    "card missing 45%\n",
    "cross missing 45%\n",
    "corner missing 45%\n",
    "possesionmissing 45%\n",
    "\n",
    "b365H b365D B365A missing 13%\n",
    "BWD BWA BWH missing 13%\n",
    "IWH IWA IWD missing 13%\n",
    "LBH LBD LBA missing 13%\n",
    "PSA PSD PSH missing 57% \n",
    "WHH WHA WHD missing 13%\n",
    "SJA SJH SJD missing 34%  \n",
    "VCA VCD VCH missing 13%\n",
    "GBD GBA GBH 45% mis\n",
    "BSH BSA BSD 45%mis\n",
    "\n",
    "player \n",
    "player_api_id\n",
    "player_fifa_api_id\n",
    "\n",
    "player_attributes\n",
    "attacking_work_rate missing 2%\n",
    "volleys missing 1%\n",
    "curve missing 1%\n",
    "blance missing 1%\n",
    "jumping missing 1%\n",
    "vision missing 1%\n",
    "sliding tackle missing 1%\n",
    "agility missing 1%\n",
    "\n",
    "\n",
    "Team\n",
    "team_fifa_api_id 4 % missing\n",
    "\n",
    "Team_attributes\n",
    "buildUpPlayDribbling missing 66%\n",
    "\n"
   ]
  }
 ],
 "metadata": {
  "kernelspec": {
   "display_name": "Python 3 (ipykernel)",
   "language": "python",
   "name": "python3"
  },
  "language_info": {
   "codemirror_mode": {
    "name": "ipython",
    "version": 3
   },
   "file_extension": ".py",
   "mimetype": "text/x-python",
   "name": "python",
   "nbconvert_exporter": "python",
   "pygments_lexer": "ipython3",
   "version": "3.9.12"
  }
 },
 "nbformat": 4,
 "nbformat_minor": 5
}
