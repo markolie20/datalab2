{
 "cells": [
  {
   "cell_type": "code",
   "execution_count": 5,
   "id": "525ffee8-1661-4047-a224-ae08a2c65a14",
   "metadata": {},
   "outputs": [],
   "source": [
    "import sqlite3\n",
    "import pandas as pd"
   ]
  },
  {
   "cell_type": "code",
   "execution_count": 18,
   "id": "7e7bacfc-f9bf-412d-ac1f-3e780be0b33a",
   "metadata": {},
   "outputs": [
    {
     "name": "stdout",
     "output_type": "stream",
     "text": [
      "       id       name_x  country_id                    name_y\n",
      "0       1      Belgium           1    Belgium Jupiler League\n",
      "1    1729      England        1729    England Premier League\n",
      "2    4769       France        4769            France Ligue 1\n",
      "3    7809      Germany        7809     Germany 1. Bundesliga\n",
      "4   10257        Italy       10257             Italy Serie A\n",
      "5   13274  Netherlands       13274    Netherlands Eredivisie\n",
      "6   15722       Poland       15722        Poland Ekstraklasa\n",
      "7   17642     Portugal       17642  Portugal Liga ZON Sagres\n",
      "8   19694     Scotland       19694   Scotland Premier League\n",
      "9   21518        Spain       21518           Spain LIGA BBVA\n",
      "10  24558  Switzerland       24558  Switzerland Super League\n"
     ]
    }
   ],
   "source": [
    "cnx = sqlite3.connect(\"database.sqlite\")\n",
    "\n",
    "country_df = pd.read_sql_query(\"SELECT * FROM Country\", cnx)\n",
    "league_df = pd.read_sql_query(\"SELECT * FROM League\", cnx)\n",
    "match_df = pd.read_sql_query(\"SELECT * FROM Match\", cnx)\n",
    "player_df = pd.read_sql_query(\"SELECT * FROM Player\", cnx)\n",
    "player_att_df = pd.read_sql_query(\"SELECT * FROM Player_Attributes\", cnx)\n",
    "team_df = pd.read_sql_query(\"SELECT * FROM Team\", cnx)\n",
    "team_att_df = pd.read_sql_query(\"SELECT * FROM Team_Attributes\", cnx"
   ]
  },
  {
   "cell_type": "code",
   "execution_count": 31,
   "id": "0a920b26-950d-4e41-b0dd-e2271b638ba6",
   "metadata": {},
   "outputs": [
    {
     "name": "stdout",
     "output_type": "stream",
     "text": [
      "Index(['id', 'name_country', 'country_id', 'name_league'], dtype='object')\n",
      "['id_x', 'league_id', 'season', 'stage', 'date', 'match_api_id', 'home_team_api_id', 'away_team_api_id', 'home_team_goal', 'away_team_goal', 'home_player_X1', 'home_player_X2', 'home_player_X3', 'home_player_X4', 'home_player_X5', 'home_player_X6', 'home_player_X7', 'home_player_X8', 'home_player_X9', 'home_player_X10', 'home_player_X11', 'away_player_X1', 'away_player_X2', 'away_player_X3', 'away_player_X4', 'away_player_X5', 'away_player_X6', 'away_player_X7', 'away_player_X8', 'away_player_X9', 'away_player_X10', 'away_player_X11', 'home_player_Y1', 'home_player_Y2', 'home_player_Y3', 'home_player_Y4', 'home_player_Y5', 'home_player_Y6', 'home_player_Y7', 'home_player_Y8', 'home_player_Y9', 'home_player_Y10', 'home_player_Y11', 'away_player_Y1', 'away_player_Y2', 'away_player_Y3', 'away_player_Y4', 'away_player_Y5', 'away_player_Y6', 'away_player_Y7', 'away_player_Y8', 'away_player_Y9', 'away_player_Y10', 'away_player_Y11', 'home_player_1', 'home_player_2', 'home_player_3', 'home_player_4', 'home_player_5', 'home_player_6', 'home_player_7', 'home_player_8', 'home_player_9', 'home_player_10', 'home_player_11', 'away_player_1', 'away_player_2', 'away_player_3', 'away_player_4', 'away_player_5', 'away_player_6', 'away_player_7', 'away_player_8', 'away_player_9', 'away_player_10', 'away_player_11', 'goal', 'shoton', 'shotoff', 'foulcommit', 'card', 'cross', 'corner', 'possession', 'B365H', 'B365D', 'B365A', 'BWH', 'BWD', 'BWA', 'IWH', 'IWD', 'IWA', 'LBH', 'LBD', 'LBA', 'PSH', 'PSD', 'PSA', 'WHH', 'WHD', 'WHA', 'SJH', 'SJD', 'SJA', 'VCH', 'VCD', 'VCA', 'GBH', 'GBD', 'GBA', 'BSH', 'BSD', 'BSA', 'id_y', 'name_country_x', 'name_league_x', 'id_x', 'name_country_y', 'name_league_y', 'id_y', 'name_country_x', 'name_league_x', 'id_x', 'name_countrys', 'name_leagues', 'id_y', 'name_country_y', 'name_league_y']\n"
     ]
    }
   ],
   "source": []
  },
  {
   "cell_type": "code",
   "execution_count": null,
   "id": "04108c88-4e41-47b5-9706-54a43b5aea6e",
   "metadata": {},
   "outputs": [],
   "source": []
  }
 ],
 "metadata": {
  "kernelspec": {
   "display_name": "Python 3 (ipykernel)",
   "language": "python",
   "name": "python3"
  },
  "language_info": {
   "codemirror_mode": {
    "name": "ipython",
    "version": 3
   },
   "file_extension": ".py",
   "mimetype": "text/x-python",
   "name": "python",
   "nbconvert_exporter": "python",
   "pygments_lexer": "ipython3",
   "version": "3.9.12"
  }
 },
 "nbformat": 4,
 "nbformat_minor": 5
}
